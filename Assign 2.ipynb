{
 "cells": [
  {
   "cell_type": "markdown",
   "metadata": {},
   "source": [
    "#  Reduce Function user defined"
   ]
  },
  {
   "cell_type": "code",
   "execution_count": 1,
   "metadata": {},
   "outputs": [
    {
     "name": "stdout",
     "output_type": "stream",
     "text": [
      "73\n"
     ]
    }
   ],
   "source": [
    "def myReduce(l):\n",
    "    length=len(l)\n",
    "    a=l[0]\n",
    "    b=l[1]\n",
    "    suma=a+b\n",
    "    #print(type(length))\n",
    "    for i in range(1,length-1):\n",
    "        nextval=l[i+1]\n",
    "        suma=suma+nextval\n",
    "        #print(f\"loop number = {i},next {nextval} sum {suma}\")\n",
    "    return suma\n",
    "                \n",
    "print(myReduce([11,12,13,14,15,1,2,5]))"
   ]
  },
  {
   "cell_type": "markdown",
   "metadata": {},
   "source": [
    "# Filter function user defined"
   ]
  },
  {
   "cell_type": "code",
   "execution_count": 2,
   "metadata": {},
   "outputs": [
    {
     "name": "stdout",
     "output_type": "stream",
     "text": [
      "enter the number to filter number greater then that from iterable elements:\n",
      "3\n",
      "[11, 12, 13, 14, 15, 5]\n"
     ]
    }
   ],
   "source": [
    "def myFilter(l,a):\n",
    "    ls=[]\n",
    "    for i in l:\n",
    "        if i>a:\n",
    "            ls.append(i)\n",
    "    return ls        \n",
    "\n",
    "\n",
    "print(myFilter([11,12,13,14,15,1,2,5],\n",
    "               int(input(\"enter the number to filter number greater then that from iterable elements:\\n\"))))"
   ]
  },
  {
   "cell_type": "markdown",
   "metadata": {},
   "source": [
    "# List Comprehension\n"
   ]
  },
  {
   "cell_type": "code",
   "execution_count": 3,
   "metadata": {},
   "outputs": [
    {
     "name": "stdout",
     "output_type": "stream",
     "text": [
      "['x', 'xx', 'xxx', 'xxxx', 'y', 'yy', 'yyy', 'yyyy', 'z', 'zz', 'zzz', 'zzzz']\n"
     ]
    }
   ],
   "source": [
    "a=[\"x\",\"y\",\"z\"]\n",
    "\n",
    "ls1=[a[i]*j for i in range(len(a)) for j in range(1,5)]\n",
    "\n",
    "print(ls1)"
   ]
  },
  {
   "cell_type": "code",
   "execution_count": 4,
   "metadata": {},
   "outputs": [
    {
     "name": "stdout",
     "output_type": "stream",
     "text": [
      "['x', 'y', 'z', 'xx', 'yy', 'zz', 'xxx', 'yyy', 'zzz']\n"
     ]
    }
   ],
   "source": [
    "a=[\"x\",\"y\",\"z\"]\n",
    "ls1=[a[j]*(i+1) for i in range(len(a))  for j in range(len(a))]\n",
    "print(ls1)"
   ]
  },
  {
   "cell_type": "code",
   "execution_count": 5,
   "metadata": {},
   "outputs": [
    {
     "name": "stdout",
     "output_type": "stream",
     "text": [
      "[[2, 3, 4, 5], [3, 4, 5, 6], [4, 5, 6, 7], [5, 6, 7, 8]]\n"
     ]
    }
   ],
   "source": [
    "ls=[]\n",
    "ls=[[a,a+1,a+2,a+3] for a in range(2,6)]\n",
    "\n",
    "print(ls)"
   ]
  },
  {
   "cell_type": "code",
   "execution_count": 6,
   "metadata": {},
   "outputs": [
    {
     "name": "stdout",
     "output_type": "stream",
     "text": [
      "[[2], [3], [4], [3], [4], [5], [4], [5], [6]]\n"
     ]
    }
   ],
   "source": [
    "ls=[[i+j] for i in range(1,4) for j in range(1,4)]\n",
    "print(ls)"
   ]
  },
  {
   "cell_type": "code",
   "execution_count": 7,
   "metadata": {},
   "outputs": [
    {
     "name": "stdout",
     "output_type": "stream",
     "text": [
      "[(1, 1), (2, 1), (3, 1), (1, 2), (2, 2), (3, 2), (1, 3), (2, 3), (3, 3)]\n"
     ]
    }
   ],
   "source": [
    "ar=[(list2,list1) for list1 in range ( 1,4 ) for list2 in range (1, 4 )  ]  \n",
    "print(ar)  "
   ]
  },
  {
   "cell_type": "markdown",
   "metadata": {},
   "source": [
    "# Longest Word"
   ]
  },
  {
   "cell_type": "code",
   "execution_count": 9,
   "metadata": {},
   "outputs": [
    {
     "name": "stdout",
     "output_type": "stream",
     "text": [
      "abhishej\n"
     ]
    }
   ],
   "source": [
    "def longestWord(l):\n",
    "    longest=0\n",
    "    for i in l:\n",
    "        if len(i) > longest:\n",
    "            pos=len(i)\n",
    "            val=i\n",
    "    return val\n",
    "\n",
    "\n",
    "print(longestWord([\"abhi\",\"sharma\",\"abhi1\",\"abhishej\"]))   "
   ]
  },
  {
   "cell_type": "markdown",
   "metadata": {},
   "source": [
    "# Filter_long_word"
   ]
  },
  {
   "cell_type": "code",
   "execution_count": 10,
   "metadata": {},
   "outputs": [
    {
     "name": "stdout",
     "output_type": "stream",
     "text": [
      "enter a number:11\n",
      "['asdasasddasd']\n"
     ]
    }
   ],
   "source": [
    "lis=[\"abhiasdas\",\"sharmaasdas\",\"asdasasddasd\"]\n",
    "\n",
    "def filter_long_words(x,a):\n",
    "    lis1=[]\n",
    "    for i in range(len(x)):\n",
    "        if len(x[i])>a:\n",
    "            lis1.append((x[i]))\n",
    "    return lis1        \n",
    "        \n",
    "        \n",
    "print(filter_long_words(lis,int(input(\"enter a number:\"))))     "
   ]
  },
  {
   "cell_type": "markdown",
   "metadata": {},
   "source": [
    "# Len of words in a list"
   ]
  },
  {
   "cell_type": "code",
   "execution_count": 11,
   "metadata": {},
   "outputs": [
    {
     "name": "stdout",
     "output_type": "stream",
     "text": [
      "[9, 11, 12]\n"
     ]
    }
   ],
   "source": [
    "lis=[\"abhiasdas\",\"sharmaasdas\",\"asdasasddasd\"]\n",
    "\n",
    "def lenfun(x):\n",
    "    lis1=[]\n",
    "    for i in range(len(x)):\n",
    "        lis1.append(len(x[i]))\n",
    "    return lis1        \n",
    "        \n",
    "        \n",
    "print(lenfun(lis)) "
   ]
  },
  {
   "cell_type": "markdown",
   "metadata": {},
   "source": [
    "# Check for vowel"
   ]
  },
  {
   "cell_type": "code",
   "execution_count": 12,
   "metadata": {},
   "outputs": [
    {
     "name": "stdout",
     "output_type": "stream",
     "text": [
      "enter a char of length 1: A\n",
      "True its a vowel\n"
     ]
    }
   ],
   "source": [
    "def checkword(a):\n",
    "    val=a.lower()\n",
    "    if val==\"a\" or val==\"e\" or  val==\"i\" or  val==\"o\" or val==\"u\":\n",
    "        return \"True its a vowel\"\n",
    "    else:\n",
    "        return \"False  it is not a vowel\"\n",
    "    \n",
    "def checklength(char):\n",
    "    if len(char)==1:\n",
    "       return checkchar(char)\n",
    "    else:\n",
    "        var_inp=input(\"enter a char of length 1: \")\n",
    "        return checklength(var_inp)\n",
    "    \n",
    "def checkchar(char):    \n",
    "    val=ord(char)\n",
    "    if (val>64 and val<91) or (val>96 and val<123):\n",
    "        return checkword(char)\n",
    "    else:\n",
    "        var_inp=input(\"Input was not a char please enter again: \")\n",
    "        return checklength(var_inp)\n",
    "    \n",
    "var_inp=input(\"enter a char of length 1: \")\n",
    "print(checklength(var_inp))"
   ]
  },
  {
   "cell_type": "code",
   "execution_count": null,
   "metadata": {},
   "outputs": [],
   "source": []
  }
 ],
 "metadata": {
  "kernelspec": {
   "display_name": "Python 3",
   "language": "python",
   "name": "python3"
  },
  "language_info": {
   "codemirror_mode": {
    "name": "ipython",
    "version": 3
   },
   "file_extension": ".py",
   "mimetype": "text/x-python",
   "name": "python",
   "nbconvert_exporter": "python",
   "pygments_lexer": "ipython3",
   "version": "3.6.5"
  }
 },
 "nbformat": 4,
 "nbformat_minor": 2
}
