{
 "cells": [
  {
   "cell_type": "code",
   "execution_count": 7,
   "metadata": {},
   "outputs": [
    {
     "name": "stdout",
     "output_type": "stream",
     "text": [
      "Error occured : division by zero\n"
     ]
    }
   ],
   "source": [
    "\n",
    "def Div(a,b):\n",
    "    try:\n",
    "        return (a/b)\n",
    "    except Exception as e:\n",
    "        return (\"Error occured : \"+ str(e))\n",
    "    else:\n",
    "        print(\"try executed succesfully\")\n",
    "     \n",
    "        \n",
    "\n",
    "print(Div(5,0))\n"
   ]
  },
  {
   "cell_type": "code",
   "execution_count": 2,
   "metadata": {},
   "outputs": [
    {
     "name": "stdout",
     "output_type": "stream",
     "text": [
      "['Americans play Baseball', 'Americans play Cricket', 'Americans watch Baseball', 'Americans watch Cricket', 'Indians play Baseball', 'Indians play Cricket', 'Indians watch Baseball', 'Indians watch Cricket']\n"
     ]
    }
   ],
   "source": [
    "subjects=[\"Americans\",\"Indians\"]\n",
    "verbs=[\"play\",\"watch\"]\n",
    "objects=[\"Baseball\",\"Cricket\"]\n",
    "\n",
    "l=[i+\" \"+ j+\" \"+k for i in subjects for j in verbs for k in objects]    \n",
    "\n",
    "print(l)\n"
   ]
  },
  {
   "cell_type": "code",
   "execution_count": null,
   "metadata": {},
   "outputs": [],
   "source": []
  }
 ],
 "metadata": {
  "kernelspec": {
   "display_name": "Python 3",
   "language": "python",
   "name": "python3"
  },
  "language_info": {
   "codemirror_mode": {
    "name": "ipython",
    "version": 3
   },
   "file_extension": ".py",
   "mimetype": "text/x-python",
   "name": "python",
   "nbconvert_exporter": "python",
   "pygments_lexer": "ipython3",
   "version": "3.6.5"
  }
 },
 "nbformat": 4,
 "nbformat_minor": 2
}
